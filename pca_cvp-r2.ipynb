{
 "cells": [
  {
   "cell_type": "code",
   "execution_count": 1,
   "metadata": {},
   "outputs": [
    {
     "data": {
      "text/plain": [
       "2"
      ]
     },
     "execution_count": 1,
     "metadata": {},
     "output_type": "execute_result"
    }
   ],
   "source": [
    "from scipy.spatial import ConvexHull\n",
    "from sklearn.decomposition import PCA\n",
    "import numpy as np\n",
    "import cdd\n",
    "\n",
    "v = np.array([[1.0, 1.0,0.0,1.0],[1.0, 0.0,2.0,1.0]])\n",
    "np.linalg.matrix_rank(v)"
   ]
  },
  {
   "cell_type": "code",
   "execution_count": 2,
   "metadata": {},
   "outputs": [
    {
     "name": "stdout",
     "output_type": "stream",
     "text": [
      "[[1. 1. 0. 1.]\n",
      " [1. 0. 2. 1.]]\n",
      "[[-0.          0.4472136  -0.89442719 -0.        ]\n",
      " [-0.4472136   0.8         0.4         0.        ]]\n",
      "[1.  0.5 1.  1. ]\n",
      "[[ 1.11803399e+00  5.55111512e-17]\n",
      " [-1.11803399e+00 -5.55111512e-17]]\n",
      "[[1.00000000e+00 4.08926401e-17]\n",
      " [4.08926401e-17 1.00000000e+00]]\n"
     ]
    }
   ],
   "source": [
    "v_min_size = min(v.shape)\n",
    "dim = v.shape[1]\n",
    "pca = PCA(n_components=v_min_size)\n",
    "pca.fit(v)\n",
    "C = pca.components_\n",
    "mean = pca.mean_\n",
    "low_dim_pts = pca.transform(v)\n",
    "print (v)\n",
    "print (C)\n",
    "print (mean)\n",
    "print (low_dim_pts)\n",
    "print (np.matmul(C, C.T))"
   ]
  },
  {
   "cell_type": "code",
   "execution_count": 3,
   "metadata": {},
   "outputs": [
    {
     "name": "stdout",
     "output_type": "stream",
     "text": [
      "[[-2.48253415e-17  2.48253415e-17]\n",
      " [ 5.00000000e-01 -5.00000000e-01]\n",
      " [-1.00000000e+00  1.00000000e+00]\n",
      " [ 0.00000000e+00  0.00000000e+00]]\n"
     ]
    }
   ],
   "source": [
    "print (np.matmul(C.T,low_dim_pts.T))"
   ]
  },
  {
   "cell_type": "code",
   "execution_count": 4,
   "metadata": {},
   "outputs": [
    {
     "name": "stdout",
     "output_type": "stream",
     "text": [
      "[[ 1.11803399]\n",
      " [-1.11803399]]\n"
     ]
    }
   ],
   "source": [
    "explain_ratio = np.cumsum(pca.explained_variance_ratio_)\n",
    "\n",
    "first_dims = np.argmax(explain_ratio >= 1.0-0.00001)\n",
    "\n",
    "low_dim_pts_reduct = low_dim_pts[:,0:first_dims+1]\n",
    "\n",
    "# decide how many to remove...\n",
    "print (low_dim_pts_reduct)"
   ]
  },
  {
   "cell_type": "code",
   "execution_count": 5,
   "metadata": {},
   "outputs": [
    {
     "name": "stdout",
     "output_type": "stream",
     "text": [
      "[[ 1.]\n",
      " [-1.]] [1.11803399 1.11803399]\n"
     ]
    }
   ],
   "source": [
    "if low_dim_pts_reduct.shape[1] == 1:\n",
    "    lb = np.min(low_dim_pts_reduct)\n",
    "    ub = np.max(low_dim_pts_reduct)\n",
    "    # x <= ub  -x >= -lb\n",
    "    A = np.array([[1.0],[-1.0]])\n",
    "    b = np.array([ub, -lb])\n",
    "else:\n",
    "    # convex hull will get you Ax + b <= 0\n",
    "    hull = ConvexHull(points=low_dim_pts_reduct)\n",
    "    A = hull.equations[:,:-1]\n",
    "    b = -hull.equations[:,-1]\n",
    "print (A,b)"
   ]
  },
  {
   "cell_type": "code",
   "execution_count": 6,
   "metadata": {},
   "outputs": [
    {
     "name": "stdout",
     "output_type": "stream",
     "text": [
      "[[ 1.  0.]\n",
      " [-1.  0.]\n",
      " [ 0.  1.]\n",
      " [ 0. -1.]]\n",
      "[1.11803399 1.11803399 0.         0.        ]\n"
     ]
    }
   ],
   "source": [
    "n_rows = A.shape[0]\n",
    "n_cols = A.shape[1]\n",
    "\n",
    "num_var_to_add = v_min_size - (first_dims+1)\n",
    "\n",
    "zero4 = np.zeros((n_rows,num_var_to_add))\n",
    "\n",
    "rows_to_append = []\n",
    "for idx in range(num_var_to_add):\n",
    "    l = [0.0]*num_var_to_add\n",
    "    l[idx] = 1.0\n",
    "    rows_to_append.append(np.append(np.zeros((1,n_cols)), l))\n",
    "    l[idx] = -1.0\n",
    "    rows_to_append.append(np.append(np.zeros((1,n_cols)), l))\n",
    "\n",
    "trueA = np.vstack([np.hstack([A, zero4])] + rows_to_append)\n",
    "trueB = np.append(b, [0.0, 0.0]*num_var_to_add)\n",
    "print (trueA)\n",
    "print (trueB)"
   ]
  },
  {
   "cell_type": "code",
   "execution_count": null,
   "metadata": {},
   "outputs": [],
   "source": []
  },
  {
   "cell_type": "code",
   "execution_count": 8,
   "metadata": {},
   "outputs": [
    {
     "name": "stdout",
     "output_type": "stream",
     "text": [
      "[1.  0.5 1.  1. ]\n",
      "(4, 2)\n",
      "[[ 1.  0.]\n",
      " [-1.  0.]\n",
      " [ 0.  1.]\n",
      " [ 0. -1.]]\n",
      "[[-0.          0.4472136  -0.89442719 -0.        ]\n",
      " [-0.4472136   0.8         0.4         0.        ]]\n",
      "(2, 4)\n",
      "[1.11803399 1.11803399 0.         0.        ]\n"
     ]
    }
   ],
   "source": [
    "print (mean)\n",
    "print (trueA.shape)\n",
    "print (trueA)\n",
    "print (C)\n",
    "print (C.shape)\n",
    "print (trueB)"
   ]
  },
  {
   "cell_type": "code",
   "execution_count": 7,
   "metadata": {
    "scrolled": true
   },
   "outputs": [
    {
     "data": {
      "text/plain": [
       "array([[ 0.        ,  0.4472136 , -0.89442719,  0.        ],\n",
       "       [ 0.        , -0.4472136 ,  0.89442719,  0.        ],\n",
       "       [-0.4472136 ,  0.8       ,  0.4       ,  0.        ],\n",
       "       [ 0.4472136 , -0.8       , -0.4       ,  0.        ]])"
      ]
     },
     "execution_count": 7,
     "metadata": {},
     "output_type": "execute_result"
    }
   ],
   "source": [
    "finalA = np.matmul(trueA, C)\n",
    "finalA"
   ]
  },
  {
   "cell_type": "code",
   "execution_count": 10,
   "metadata": {},
   "outputs": [
    {
     "data": {
      "text/plain": [
       "array([-0.67082039,  0.67082039,  0.3527864 , -0.3527864 ])"
      ]
     },
     "execution_count": 10,
     "metadata": {},
     "output_type": "execute_result"
    }
   ],
   "source": [
    "np.matmul(finalA, mean)"
   ]
  },
  {
   "cell_type": "code",
   "execution_count": 9,
   "metadata": {},
   "outputs": [
    {
     "data": {
      "text/plain": [
       "array([ 0.4472136 ,  1.78885438,  0.3527864 , -0.3527864 ])"
      ]
     },
     "execution_count": 9,
     "metadata": {},
     "output_type": "execute_result"
    }
   ],
   "source": [
    "np.matmul(finalA, mean)+trueB"
   ]
  },
  {
   "cell_type": "code",
   "execution_count": 9,
   "metadata": {},
   "outputs": [
    {
     "data": {
      "text/plain": [
       "1.9999999776393207"
      ]
     },
     "execution_count": 9,
     "metadata": {},
     "output_type": "execute_result"
    }
   ],
   "source": [
    "0.89442719/0.4472136"
   ]
  },
  {
   "cell_type": "code",
   "execution_count": 10,
   "metadata": {},
   "outputs": [
    {
     "data": {
      "text/plain": [
       "3.9999999552786414"
      ]
     },
     "execution_count": 10,
     "metadata": {},
     "output_type": "execute_result"
    }
   ],
   "source": [
    "1.78885438/0.4472136"
   ]
  },
  {
   "cell_type": "code",
   "execution_count": 12,
   "metadata": {},
   "outputs": [
    {
     "data": {
      "text/plain": [
       "0.7888543639996637"
      ]
     },
     "execution_count": 12,
     "metadata": {},
     "output_type": "execute_result"
    }
   ],
   "source": [
    "0.3527864/0.4472136"
   ]
  },
  {
   "cell_type": "code",
   "execution_count": null,
   "metadata": {},
   "outputs": [],
   "source": []
  }
 ],
 "metadata": {
  "kernelspec": {
   "display_name": "Python 3",
   "language": "python",
   "name": "python3"
  },
  "language_info": {
   "codemirror_mode": {
    "name": "ipython",
    "version": 3
   },
   "file_extension": ".py",
   "mimetype": "text/x-python",
   "name": "python",
   "nbconvert_exporter": "python",
   "pygments_lexer": "ipython3",
   "version": "3.6.8"
  }
 },
 "nbformat": 4,
 "nbformat_minor": 2
}
