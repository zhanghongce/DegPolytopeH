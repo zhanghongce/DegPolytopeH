{
 "cells": [
  {
   "cell_type": "code",
   "execution_count": 1,
   "metadata": {},
   "outputs": [],
   "source": [
    "import cdd\n",
    "import numpy as np\n",
    "\n",
    "vcdd = np.array([[1.0, 1.0,0.0,1.0],[1.0, 0.0,2.0,1.0], [1.0, 0.0,0.0,1.0], [1.0, 1.0,2.0,1.0]])\n",
    "\n",
    "# points\n",
    "#  1 0 1\n",
    "#  0 2 1\n",
    "#  0 0 1\n",
    "#  1 2 1\n",
    "# square on plane : z=1\n",
    "\n"
   ]
  },
  {
   "cell_type": "code",
   "execution_count": null,
   "metadata": {},
   "outputs": [],
   "source": [
    "neqsA = np.array([[0.0, -1.0, 0.0], [-1.0, 0.0, 0.0], [0.0, 1.0, 0.0], [1.0, 0.0, 0.0], [0.0,0.0,-1.0], [0.0,0.0,1.0]])\n",
    "neqsB = np.array([0.0, 0.0, 2.0, 1.0, -1.0, 1.0])\n",
    "\n",
    "\n",
    "#  0 -1 0  * [x y z] <= 0\n",
    "# -1  0 0  * [x y z] <= 0\n",
    "#  0  1 0  * [x y z] <= 2\n",
    "#  1  0 0  * [x y z] <= 1\n",
    "#  0  0 -1 * [x y z] <= -1\n",
    "#  0  0 1  * [x y z] <= 1\n",
    "\n",
    "\n",
    "# Which is equivalent to ...\n",
    "#  y >= 0\n",
    "#  x >= 0\n",
    "#  y <= 2\n",
    "#  x <= 1\n",
    "#  z >= 1\n",
    "#  z <= 1\n",
    "\n",
    "\n",
    "def compute_polytope_vertices(A, b):\n",
    "    \"\"\"\n",
    "    Compute the vertices of a polytope given in halfspace representation by\n",
    "    :math:`A x \\\\leq b`.\n",
    "    Parameters\n",
    "    ----------\n",
    "    A : array, shape=(m, k)\n",
    "        Matrix of halfspace representation.\n",
    "    b : array, shape=(m,)\n",
    "        Vector of halfspace representation.\n",
    "    Returns\n",
    "    -------\n",
    "    vertices : list of arrays\n",
    "        List of polytope vertices.\n",
    "    \"\"\"\n",
    "    b = b.reshape((b.shape[0], 1))\n",
    "    mat = cdd.Matrix(np.hstack([b, -A]), number_type='float')\n",
    "    mat.rep_type = cdd.RepType.INEQUALITY\n",
    "    P = cdd.Polyhedron(mat)\n",
    "    g = P.get_generators()\n",
    "    V = np.array(g)\n",
    "    vertices = []\n",
    "    for i in range(V.shape[0]):\n",
    "        if V[i, 0] != 1:  # 1 = vertex, 0 = ray\n",
    "            raise Exception(\"Polyhedron is not a polytope\")\n",
    "        elif i not in g.lin_set:\n",
    "            vertices.append(V[i, 1:])\n",
    "    return vertices\n",
    "\n",
    "\n",
    "print (compute_polytope_vertices(neqsA, neqsB))"
   ]
  },
  {
   "cell_type": "code",
   "execution_count": 2,
   "metadata": {},
   "outputs": [
    {
     "name": "stdout",
     "output_type": "stream",
     "text": [
      "[[ 0.  0.  1.  0.]\n",
      " [ 0.  1.  0.  0.]\n",
      " [ 2.  0. -1.  0.]\n",
      " [ 1. -1.  0.  0.]\n",
      " [-1.  0.  0.  1.]]\n",
      "[[1. 1. 0. 1.]\n",
      " [1. 0. 2. 1.]\n",
      " [1. 0. 0. 1.]\n",
      " [1. 1. 2. 1.]]\n"
     ]
    }
   ],
   "source": [
    "mat = cdd.Matrix(vcdd, number_type='float')\n",
    "mat.rep_type = cdd.RepType.GENERATOR\n",
    "P = cdd.Polyhedron(mat)\n",
    "H = P.get_inequalities()\n",
    "V = P.get_generators()\n",
    "newV = np.array(V)\n",
    "EQs = np.array(H)\n",
    "print (EQs)\n",
    "print (newV)"
   ]
  },
  {
   "cell_type": "code",
   "execution_count": null,
   "metadata": {},
   "outputs": [],
   "source": [
    "# let's interpret the inequalities:\n",
    "\n",
    "# A = \n",
    "# 0   -1  0\n",
    "# -1  0   0\n",
    "# 0   1   0\n",
    "# 1   0   0\n",
    "# 0   0   -1\n",
    "\n",
    "\n",
    "# B = [0 0 2 1 -1]\n",
    "\n",
    "# 0   -1  0  * [x y z] <= 0\n",
    "# -1  0   0  * [x y z] <= 0\n",
    "# 0   1   0  * [x y z] <= 2\n",
    "# 1   0   0  * [x y z] <= 1\n",
    "# 0   0   -1 * [x y z] <= -1\n",
    "\n",
    "# y >= 0\n",
    "# x >= 0\n",
    "# y <= 2\n",
    "# x <= 1\n",
    "# z >= 1"
   ]
  }
 ],
 "metadata": {
  "kernelspec": {
   "display_name": "Python 3",
   "language": "python",
   "name": "python3"
  },
  "language_info": {
   "codemirror_mode": {
    "name": "ipython",
    "version": 3
   },
   "file_extension": ".py",
   "mimetype": "text/x-python",
   "name": "python",
   "nbconvert_exporter": "python",
   "pygments_lexer": "ipython3",
   "version": "3.6.8"
  }
 },
 "nbformat": 4,
 "nbformat_minor": 2
}
