{
 "cells": [
  {
   "cell_type": "code",
   "execution_count": 1,
   "metadata": {},
   "outputs": [],
   "source": [
    "import numpy as np\n",
    "from scipy.spatial import ConvexHull\n",
    "\n",
    "v1 = np.array([[0.0, 0.0,0.0,0.0],[1.0, 1.0,1.0,1.0], [1.0/2, 1.0/2,1.0/2,1.0/2], [1.0/4, 1.0/4,1.0/4,1.0/4]])\n",
    "v2 = np.array([[0.0, 0.0,0.0,0.0],[1.0, 1.0,1.0,1.0]]) # good\n",
    "v3 = np.array([[1.0, 1.0,0.0,1.0],[1.0, 0.0,2.0,1.0]])\n",
    "v4 = np.array([[1.0,0.0,1.0],[ 0.0,2.0,1.0], [ 0.0,0.0,1.0], [ 1.0,2.0,1.0]])\n",
    "v5 = np.zeros((2,4))\n",
    "vn = np.array([[0.0,0.0,0.0],[1.0,1.0,0.0],[0.0,0.0,2.0],[1.0,1.0,2.0]])\n",
    "vline = np.array([[1.0,1.0,1.0],[2.0,2.0,2.0]])\n",
    "\n",
    "v = vline\n",
    "m_ = v[0]\n",
    "v = v - m_\n",
    "U,S,V = np.linalg.svd(v)\n",
    "epsilon = 0.000001\n",
    "npoints, ndim = v.shape\n"
   ]
  },
  {
   "cell_type": "code",
   "execution_count": 2,
   "metadata": {},
   "outputs": [
    {
     "name": "stdout",
     "output_type": "stream",
     "text": [
      "[[0. 0. 0.]\n",
      " [1. 1. 1.]]\n",
      "[[ 0. -1.]\n",
      " [-1.  0.]] [1.73205081 0.        ] [[-0.57735027 -0.57735027 -0.57735027]\n",
      " [ 0.81649658 -0.40824829 -0.40824829]\n",
      " [ 0.         -0.70710678  0.70710678]]\n"
     ]
    }
   ],
   "source": [
    "print (v)\n",
    "print (U,S,V)"
   ]
  },
  {
   "cell_type": "code",
   "execution_count": 3,
   "metadata": {},
   "outputs": [
    {
     "name": "stdout",
     "output_type": "stream",
     "text": [
      "[1.73205081 0.        ]\n",
      "1\n",
      "[[ 0.          0.          0.        ]\n",
      " [-1.73205081  0.          0.        ]]\n",
      "[[ 0.        ]\n",
      " [-1.73205081]]\n"
     ]
    }
   ],
   "source": [
    "print (S)\n",
    "if not (np.abs(S) < epsilon).any():\n",
    "    dim_to_remove = S.shape[0]\n",
    "else:\n",
    "    dim_to_remove = np.argmax(np.abs(S) < epsilon)\n",
    "print (dim_to_remove)\n",
    "diag_l = S.shape[0]\n",
    "reconstruct_diag = np.zeros((npoints, ndim))\n",
    "reconstruct_diag[:diag_l,:diag_l] = np.diag(S)\n",
    "\n",
    "new_pts = np.matmul(U,reconstruct_diag)\n",
    "print (new_pts)\n",
    "print (new_pts[:, :dim_to_remove])"
   ]
  },
  {
   "cell_type": "code",
   "execution_count": 4,
   "metadata": {},
   "outputs": [],
   "source": [
    "def toHull(low_dim_pts_reduct):\n",
    "    if low_dim_pts_reduct.shape[1] == 1:\n",
    "        lb = np.min(low_dim_pts_reduct)\n",
    "        ub = np.max(low_dim_pts_reduct)\n",
    "        # x <= ub  -x >= -lb\n",
    "        A = np.array([[1.0],[-1.0]])\n",
    "        b = np.array([ub, -lb])\n",
    "    else:\n",
    "        # convex hull will get you Ax + b <= 0\n",
    "        hull = ConvexHull(points=low_dim_pts_reduct)\n",
    "        A = hull.equations[:,:-1]\n",
    "        b = -hull.equations[:,-1]\n",
    "    print (A,b)\n",
    "    return A,b"
   ]
  },
  {
   "cell_type": "code",
   "execution_count": null,
   "metadata": {},
   "outputs": [],
   "source": []
  },
  {
   "cell_type": "code",
   "execution_count": null,
   "metadata": {},
   "outputs": [],
   "source": []
  },
  {
   "cell_type": "code",
   "execution_count": 5,
   "metadata": {},
   "outputs": [
    {
     "name": "stdout",
     "output_type": "stream",
     "text": [
      "[[ 1.]\n",
      " [-1.]] [0.         1.73205081]\n",
      "[[ 1.  0.  0.]\n",
      " [-1.  0.  0.]\n",
      " [ 0.  1.  0.]\n",
      " [ 0. -1.  0.]\n",
      " [ 0.  0.  1.]\n",
      " [ 0.  0. -1.]]\n",
      "[0.         1.73205081 0.         0.         0.         0.        ]\n"
     ]
    }
   ],
   "source": [
    "low_dim_pts_reduct = new_pts[:, :dim_to_remove]\n",
    "if dim_to_remove != 0:\n",
    "    A,b = toHull(low_dim_pts_reduct)\n",
    "    # complete to the full dimension\n",
    "    n_rows = A.shape[0]\n",
    "    n_cols = A.shape[1]\n",
    "\n",
    "    num_var_to_add = ndim - (dim_to_remove)\n",
    "\n",
    "    zero4 = np.zeros((n_rows,num_var_to_add))\n",
    "    rows_to_append = np.zeros((2*num_var_to_add, n_cols+num_var_to_add))\n",
    "    for idx in range(num_var_to_add):\n",
    "        rows_to_append[idx*2,n_cols+ idx] = 1\n",
    "        rows_to_append[idx*2+1,n_cols+ idx] = -1\n",
    "\n",
    "    trueA = np.vstack([np.hstack([A, zero4]), rows_to_append])\n",
    "    trueB = np.append(b, [0.0, 0.0]*num_var_to_add)\n",
    "else:\n",
    "    #num_var_to_add = ndim # v.shape[1] - (dim_to_remove)  # v.shape[1] \n",
    "    # directly construct trueA trueB\n",
    "    trueA = np.zeros((ndim*2, ndim))\n",
    "    for idx in range(ndim):\n",
    "        trueA[idx*2,idx] = 1\n",
    "        trueA[idx*2+1,idx] = -1\n",
    "    trueB = np.zeros(ndim*2)\n",
    "\n",
    "    \n",
    "print (trueA)\n",
    "print (trueB)"
   ]
  },
  {
   "cell_type": "code",
   "execution_count": 6,
   "metadata": {},
   "outputs": [
    {
     "data": {
      "text/plain": [
       "array([[-0.57735027, -0.57735027, -0.57735027],\n",
       "       [ 0.57735027,  0.57735027,  0.57735027],\n",
       "       [ 0.81649658, -0.40824829, -0.40824829],\n",
       "       [-0.81649658,  0.40824829,  0.40824829],\n",
       "       [ 0.        , -0.70710678,  0.70710678],\n",
       "       [ 0.        ,  0.70710678, -0.70710678]])"
      ]
     },
     "execution_count": 6,
     "metadata": {},
     "output_type": "execute_result"
    }
   ],
   "source": [
    "finalA = np.matmul(trueA, V)\n",
    "finalA"
   ]
  },
  {
   "cell_type": "code",
   "execution_count": 7,
   "metadata": {},
   "outputs": [],
   "source": [
    "finalB = np.matmul(finalA, m_) + trueB"
   ]
  },
  {
   "cell_type": "code",
   "execution_count": 8,
   "metadata": {},
   "outputs": [
    {
     "data": {
      "text/plain": [
       "array([-1.73205081e+00,  3.46410162e+00,  2.22044605e-16, -2.22044605e-16,\n",
       "        0.00000000e+00,  0.00000000e+00])"
      ]
     },
     "execution_count": 8,
     "metadata": {},
     "output_type": "execute_result"
    }
   ],
   "source": [
    "finalB"
   ]
  },
  {
   "cell_type": "code",
   "execution_count": null,
   "metadata": {},
   "outputs": [],
   "source": [
    "-0.78867513/0.21132487"
   ]
  },
  {
   "cell_type": "code",
   "execution_count": null,
   "metadata": {},
   "outputs": [],
   "source": [
    "a_ = 0.57735027; b_ = 0.78867513; c_ = 0.21132487;\n",
    "(b_ - c_)/(a_)"
   ]
  },
  {
   "cell_type": "code",
   "execution_count": null,
   "metadata": {},
   "outputs": [],
   "source": [
    "a_+c_-b_"
   ]
  },
  {
   "cell_type": "code",
   "execution_count": null,
   "metadata": {},
   "outputs": [],
   "source": []
  }
 ],
 "metadata": {
  "kernelspec": {
   "display_name": "Python 3",
   "language": "python",
   "name": "python3"
  },
  "language_info": {
   "codemirror_mode": {
    "name": "ipython",
    "version": 3
   },
   "file_extension": ".py",
   "mimetype": "text/x-python",
   "name": "python",
   "nbconvert_exporter": "python",
   "pygments_lexer": "ipython3",
   "version": "3.6.8"
  }
 },
 "nbformat": 4,
 "nbformat_minor": 2
}
