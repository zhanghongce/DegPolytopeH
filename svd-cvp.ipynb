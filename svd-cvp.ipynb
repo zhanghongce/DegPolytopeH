{
 "cells": [
  {
   "cell_type": "code",
   "execution_count": 1,
   "metadata": {},
   "outputs": [],
   "source": [
    "import numpy as np\n",
    "from scipy.spatial import ConvexHull\n",
    "v = np.array([[0.0, 0.0,0.0,0.0],[1.0, 1.0,1.0,1.0]])\n",
    "U,S,V = np.linalg.svd(v)\n",
    "epsilon = 0.000001\n",
    "\n"
   ]
  },
  {
   "cell_type": "code",
   "execution_count": 5,
   "metadata": {},
   "outputs": [
    {
     "name": "stdout",
     "output_type": "stream",
     "text": [
      "[2. 0.]\n",
      "[[ 0.  0.]\n",
      " [-2.  0.]]\n",
      "[[ 0.]\n",
      " [-2.]]\n"
     ]
    }
   ],
   "source": [
    "print (S)\n",
    "dim_to_remove = np.argmax(np.abs(S) < epsilon)\n",
    "new_pts = np.matmul(U,np.diag(S))\n",
    "print (new_pts)\n",
    "print (new_pts[:, :dim_to_remove])"
   ]
  },
  {
   "cell_type": "code",
   "execution_count": 6,
   "metadata": {},
   "outputs": [],
   "source": [
    "def toHull(low_dim_pts_reduct):\n",
    "    if low_dim_pts_reduct.shape[1] == 1:\n",
    "        lb = np.min(low_dim_pts_reduct)\n",
    "        ub = np.max(low_dim_pts_reduct)\n",
    "        # x <= ub  -x >= -lb\n",
    "        A = np.array([[1.0],[-1.0]])\n",
    "        b = np.array([ub, -lb])\n",
    "    else:\n",
    "        # convex hull will get you Ax + b <= 0\n",
    "        hull = ConvexHull(points=low_dim_pts_reduct)\n",
    "        A = hull.equations[:,:-1]\n",
    "        b = -hull.equations[:,-1]\n",
    "    print (A,b)\n",
    "    return A,b"
   ]
  },
  {
   "cell_type": "code",
   "execution_count": 7,
   "metadata": {},
   "outputs": [
    {
     "name": "stdout",
     "output_type": "stream",
     "text": [
      "[[ 1.]\n",
      " [-1.]] [0. 2.]\n"
     ]
    }
   ],
   "source": [
    "low_dim_pts_reduct = new_pts[:, :dim_to_remove]\n",
    "A,b = toHull(low_dim_pts_reduct)"
   ]
  },
  {
   "cell_type": "code",
   "execution_count": 9,
   "metadata": {},
   "outputs": [
    {
     "name": "stdout",
     "output_type": "stream",
     "text": [
      "[[ 1.  0.  0.  0.]\n",
      " [-1.  0.  0.  0.]\n",
      " [ 0.  1.  0.  0.]\n",
      " [ 0. -1.  0.  0.]\n",
      " [ 0.  0.  1.  0.]\n",
      " [ 0.  0. -1.  0.]\n",
      " [ 0.  0.  0.  1.]\n",
      " [ 0.  0.  0. -1.]]\n",
      "[0. 2. 0. 0. 0. 0. 0. 0.]\n"
     ]
    }
   ],
   "source": [
    "# complete to the full dimension\n",
    "n_rows = A.shape[0]\n",
    "n_cols = A.shape[1]\n",
    "\n",
    "num_var_to_add = v.shape[1] - (dim_to_remove)\n",
    "\n",
    "zero4 = np.zeros((n_rows,num_var_to_add))\n",
    "\n",
    "rows_to_append = []\n",
    "for idx in range(num_var_to_add):\n",
    "    l = [0.0]*num_var_to_add\n",
    "    l[idx] = 1.0\n",
    "    rows_to_append.append(np.append(np.zeros((1,n_cols)), l))\n",
    "    l[idx] = -1.0\n",
    "    rows_to_append.append(np.append(np.zeros((1,n_cols)), l))\n",
    "\n",
    "trueA = np.vstack([np.hstack([A, zero4])] + rows_to_append)\n",
    "trueB = np.append(b, [0.0, 0.0]*num_var_to_add)\n",
    "print (trueA)\n",
    "print (trueB)"
   ]
  },
  {
   "cell_type": "code",
   "execution_count": 10,
   "metadata": {},
   "outputs": [
    {
     "data": {
      "text/plain": [
       "array([[-0.5       , -0.5       , -0.5       , -0.5       ],\n",
       "       [ 0.5       ,  0.5       ,  0.5       ,  0.5       ],\n",
       "       [ 0.8660254 , -0.28867513, -0.28867513, -0.28867513],\n",
       "       [-0.8660254 ,  0.28867513,  0.28867513,  0.28867513],\n",
       "       [ 0.        , -0.57735027,  0.78867513, -0.21132487],\n",
       "       [ 0.        ,  0.57735027, -0.78867513,  0.21132487],\n",
       "       [ 0.        , -0.57735027, -0.21132487,  0.78867513],\n",
       "       [ 0.        ,  0.57735027,  0.21132487, -0.78867513]])"
      ]
     },
     "execution_count": 10,
     "metadata": {},
     "output_type": "execute_result"
    }
   ],
   "source": [
    "finalA = np.matmul(trueA, V)\n",
    "finalA"
   ]
  },
  {
   "cell_type": "code",
   "execution_count": 11,
   "metadata": {},
   "outputs": [
    {
     "data": {
      "text/plain": [
       "2.7320507520009363"
      ]
     },
     "execution_count": 11,
     "metadata": {},
     "output_type": "execute_result"
    }
   ],
   "source": [
    "0.57735027/0.21132487"
   ]
  },
  {
   "cell_type": "code",
   "execution_count": 12,
   "metadata": {},
   "outputs": [
    {
     "data": {
      "text/plain": [
       "-3.7320507046804288"
      ]
     },
     "execution_count": 12,
     "metadata": {},
     "output_type": "execute_result"
    }
   ],
   "source": [
    "-0.78867513/0.21132487"
   ]
  },
  {
   "cell_type": "code",
   "execution_count": 13,
   "metadata": {},
   "outputs": [
    {
     "data": {
      "text/plain": [
       "0.9999999826794919"
      ]
     },
     "execution_count": 13,
     "metadata": {},
     "output_type": "execute_result"
    }
   ],
   "source": [
    "a_ = 0.57735027; b_ = 0.78867513; c_ = 0.21132487;\n",
    "(b_ - c_)/(a_)"
   ]
  },
  {
   "cell_type": "code",
   "execution_count": 14,
   "metadata": {},
   "outputs": [
    {
     "data": {
      "text/plain": [
       "1.0000000050247593e-08"
      ]
     },
     "execution_count": 14,
     "metadata": {},
     "output_type": "execute_result"
    }
   ],
   "source": [
    "a_+c_-b_"
   ]
  },
  {
   "cell_type": "code",
   "execution_count": null,
   "metadata": {},
   "outputs": [],
   "source": []
  }
 ],
 "metadata": {
  "kernelspec": {
   "display_name": "Python 3",
   "language": "python",
   "name": "python3"
  },
  "language_info": {
   "codemirror_mode": {
    "name": "ipython",
    "version": 3
   },
   "file_extension": ".py",
   "mimetype": "text/x-python",
   "name": "python",
   "nbconvert_exporter": "python",
   "pygments_lexer": "ipython3",
   "version": "3.6.8"
  }
 },
 "nbformat": 4,
 "nbformat_minor": 2
}
