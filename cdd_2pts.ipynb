{
 "cells": [
  {
   "cell_type": "code",
   "execution_count": 1,
   "metadata": {},
   "outputs": [],
   "source": [
    "import cdd\n",
    "import numpy as np\n",
    "\n",
    "vcdd = np.array([[1.0, 0.0, 0.0,0.0,0.0],[1.0, 1.0, 1.0, 1.0, 1.0]])\n",
    "\n",
    "# points\n",
    "# 0 0 0 0\n",
    "# 1 1 1 1\n",
    "# square on plane : z=1\n",
    "\n"
   ]
  },
  {
   "cell_type": "code",
   "execution_count": 2,
   "metadata": {},
   "outputs": [
    {
     "name": "stdout",
     "output_type": "stream",
     "text": [
      "[[ 1. -1.  0.  0.  0.]\n",
      " [ 0.  1.  0.  0.  0.]\n",
      " [ 0. -1.  1.  0.  0.]\n",
      " [ 0. -1.  0.  1.  0.]\n",
      " [ 0. -1.  0.  0.  1.]]\n",
      "[[1. 0. 0. 0. 0.]\n",
      " [1. 1. 1. 1. 1.]]\n"
     ]
    }
   ],
   "source": [
    "mat = cdd.Matrix(vcdd, number_type='float')\n",
    "mat.rep_type = cdd.RepType.GENERATOR\n",
    "P = cdd.Polyhedron(mat)\n",
    "H = P.get_inequalities()\n",
    "V = P.get_generators()\n",
    "newV = np.array(V)\n",
    "EQs = np.array(H)\n",
    "print (EQs)\n",
    "print (newV)"
   ]
  },
  {
   "cell_type": "code",
   "execution_count": null,
   "metadata": {},
   "outputs": [],
   "source": [
    "# let's interpret the inequalities:\n",
    "\n",
    "# A = \n",
    "#  1 0  0 0\n",
    "# -1 0  0 0\n",
    "#  1 -1 0 0\n",
    "# 1  0 -1 0\n",
    "# 1  0 0  -1\n",
    "\n",
    "\n",
    "# B = [1 0 0 0 0]\n",
    "\n",
    "# 1  0  0 0  * [x y z w] <= 1\n",
    "# -1 0  0 0  * [x y z w] <= 0\n",
    "# 1 -1  0 0  * [x y z w] <= 0\n",
    "# 1  0 -1 0  * [x y z w] <= 0\n",
    "# 1  0  0 -1 * [x y z w] <= 0\n",
    "\n",
    "#  x <= 1\n",
    "#  x >= 0\n",
    "#  x - y <= 0\n",
    "#  x - z <= 0\n",
    "#  x - w <= 0\n",
    "\n",
    "\n",
    "# --------------------------\n",
    "# the exact constraints:\n",
    "# 1  -1\n",
    "# -1 1\n",
    "# 1  0  -1\n",
    "# -1 0  1\n",
    "# 1  0  0 -1\n",
    "#-1  0  0  1\n",
    "#\n",
    "#\n",
    "#\n",
    "#"
   ]
  }
 ],
 "metadata": {
  "kernelspec": {
   "display_name": "Python 3",
   "language": "python",
   "name": "python3"
  },
  "language_info": {
   "codemirror_mode": {
    "name": "ipython",
    "version": 3
   },
   "file_extension": ".py",
   "mimetype": "text/x-python",
   "name": "python",
   "nbconvert_exporter": "python",
   "pygments_lexer": "ipython3",
   "version": "3.6.8"
  }
 },
 "nbformat": 4,
 "nbformat_minor": 2
}
