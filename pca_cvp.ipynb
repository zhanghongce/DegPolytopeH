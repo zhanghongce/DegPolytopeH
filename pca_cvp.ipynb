{
 "cells": [
  {
   "cell_type": "code",
   "execution_count": 1,
   "metadata": {},
   "outputs": [],
   "source": [
    "from scipy.spatial import ConvexHull\n",
    "from sklearn.decomposition import PCA\n",
    "import numpy as np\n",
    "import cdd\n",
    "\n",
    "v = np.array([[1.0,0.0,1.0],[ 0.0,2.0,1.0], [ 0.0,0.0,1.0], [ 1.0,2.0,1.0]])\n",
    "\n",
    "v6 = np.array([[1.0,-1.0],[2.0,0.0],[3.0,1.0],[-1.0,1.0],[-2.0,0.0],[-3.0,-1.0]])\n"
   ]
  },
  {
   "cell_type": "code",
   "execution_count": 2,
   "metadata": {},
   "outputs": [],
   "source": [
    "\n",
    "import matplotlib.pyplot as plt\n",
    "%matplotlib inline \n"
   ]
  },
  {
   "cell_type": "code",
   "execution_count": 3,
   "metadata": {},
   "outputs": [
    {
     "name": "stdout",
     "output_type": "stream",
     "text": [
      "[[1. 0. 1.]\n",
      " [0. 2. 1.]\n",
      " [0. 0. 1.]\n",
      " [1. 2. 1.]]\n",
      "[[ 0.98708746  0.16018224]\n",
      " [ 0.16018224 -0.98708746]]\n",
      "[0. 0.]\n",
      "[[ 0.82690521  1.1472697 ]\n",
      " [ 1.97417492  0.32036449]\n",
      " [ 3.12144462 -0.50654073]\n",
      " [-0.82690521 -1.1472697 ]\n",
      " [-1.97417492 -0.32036449]\n",
      " [-3.12144462  0.50654073]]\n"
     ]
    }
   ],
   "source": [
    "pca = PCA(n_components=2)\n",
    "pca.fit(v6)\n",
    "C = pca.components_\n",
    "mean = pca.mean_\n",
    "low_dim_pts = pca.transform(v6)\n",
    "print (v6)\n",
    "print (C)\n",
    "print (mean)\n",
    "print (low_dim_pts)"
   ]
  },
  {
   "cell_type": "code",
   "execution_count": 4,
   "metadata": {},
   "outputs": [
    {
     "data": {
      "text/plain": [
       "[<matplotlib.lines.Line2D at 0x7f50c61eec18>]"
      ]
     },
     "execution_count": 4,
     "metadata": {},
     "output_type": "execute_result"
    },
    {
     "data": {
      "image/png": "[encoded data removed]",
      "text/plain": [
       "<Figure size 432x288 with 1 Axes>"
      ]
     },
     "metadata": {
      "needs_background": "light"
     },
     "output_type": "display_data"
    }
   ],
   "source": [
    "plt.figure()\n",
    "plt.plot(low_dim_pts[:,0],low_dim_pts[:,1])"
   ]
  },
  {
   "cell_type": "code",
   "execution_count": 3,
   "metadata": {},
   "outputs": [
    {
     "name": "stdout",
     "output_type": "stream",
     "text": [
      "[[-1.   0.5]\n",
      " [ 1.  -0.5]\n",
      " [-1.  -0.5]\n",
      " [ 1.   0.5]]\n"
     ]
    }
   ],
   "source": [
    "explain_ratio = np.cumsum(pca.explained_variance_ratio_)\n",
    "\n",
    "first_dims = np.argmax(explain_ratio >= 1.0-0.00001)\n",
    "\n",
    "low_dim_pts_reduct = low_dim_pts[:,0:first_dims+1]\n",
    "\n",
    "# decide how many to remove...\n",
    "print (low_dim_pts_reduct)"
   ]
  },
  {
   "cell_type": "code",
   "execution_count": 4,
   "metadata": {},
   "outputs": [
    {
     "name": "stdout",
     "output_type": "stream",
     "text": [
      "[[-1. -0.]\n",
      " [ 0. -1.]\n",
      " [ 0.  1.]\n",
      " [ 1. -0.]] [1.  0.5 0.5 1. ]\n"
     ]
    }
   ],
   "source": [
    "hull = ConvexHull(points=low_dim_pts_reduct)\n",
    "A = hull.equations[:,:-1]\n",
    "b = -hull.equations[:,-1]\n",
    "print (A,b)"
   ]
  },
  {
   "cell_type": "code",
   "execution_count": 22,
   "metadata": {},
   "outputs": [
    {
     "name": "stdout",
     "output_type": "stream",
     "text": [
      "[[-1. -0.  0.]\n",
      " [ 0. -1.  0.]\n",
      " [ 0.  1.  0.]\n",
      " [ 1. -0.  0.]\n",
      " [ 0.  0.  1.]\n",
      " [ 0.  0. -1.]]\n",
      "[1.  0.5 0.5 1.  0.  0. ]\n"
     ]
    }
   ],
   "source": [
    "n_rows = A.shape[0]\n",
    "n_cols = A.shape[1]\n",
    "\n",
    "zero4 = np.zeros((n_rows,1))\n",
    "zero_1= np.append(np.zeros((1,n_cols)), 1.0)\n",
    "zero_n1= np.append(np.zeros((1,n_cols)), -1.0)\n",
    "\n",
    "trueA = np.vstack([np.hstack([A, zero4]),zero_1,zero_n1])\n",
    "trueB = np.append(b, [0.0, 0.0])\n",
    "print (trueA)\n",
    "print (trueB)"
   ]
  },
  {
   "cell_type": "code",
   "execution_count": 21,
   "metadata": {},
   "outputs": [
    {
     "name": "stdout",
     "output_type": "stream",
     "text": [
      "[0.5 1.  1. ]\n",
      "(6, 3)\n",
      "[[-1. -0.  0.]\n",
      " [ 0. -1.  0.]\n",
      " [ 0.  1.  0.]\n",
      " [ 1. -0.  0.]\n",
      " [ 0.  0.  1.]\n",
      " [ 0.  0. -1.]]\n",
      "[[0. 1. 0.]\n",
      " [1. 0. 0.]\n",
      " [0. 0. 1.]]\n",
      "(3, 3)\n",
      "[1.  0.5 0.5 1.  0.  0. ]\n"
     ]
    }
   ],
   "source": [
    "print (mean)\n",
    "print (trueA.shape)\n",
    "print (trueA)\n",
    "print (C)\n",
    "print (C.shape)\n",
    "print (trueB)"
   ]
  },
  {
   "cell_type": "code",
   "execution_count": 18,
   "metadata": {},
   "outputs": [
    {
     "name": "stdout",
     "output_type": "stream",
     "text": [
      "[[ 0. -1.  0.]\n",
      " [-1.  0.  0.]\n",
      " [ 1.  0.  0.]\n",
      " [ 0.  1.  0.]\n",
      " [ 0.  0.  1.]\n",
      " [ 0.  0. -1.]]\n"
     ]
    }
   ],
   "source": [
    "finalA = np.matmul(trueA, C.T)\n",
    "print (finalA)"
   ]
  },
  {
   "cell_type": "code",
   "execution_count": 27,
   "metadata": {},
   "outputs": [
    {
     "data": {
      "text/plain": [
       "array([-1. , -0.5,  0.5,  1. ,  1. , -1. ])"
      ]
     },
     "execution_count": 27,
     "metadata": {},
     "output_type": "execute_result"
    }
   ],
   "source": [
    "np.matmul(finalA, mean)"
   ]
  },
  {
   "cell_type": "code",
   "execution_count": 28,
   "metadata": {},
   "outputs": [
    {
     "data": {
      "text/plain": [
       "array([ 0.,  0.,  1.,  2.,  1., -1.])"
      ]
     },
     "execution_count": 28,
     "metadata": {},
     "output_type": "execute_result"
    }
   ],
   "source": [
    "np.matmul(finalA, mean)+trueB"
   ]
  },
  {
   "cell_type": "code",
   "execution_count": 35,
   "metadata": {},
   "outputs": [
    {
     "name": "stdout",
     "output_type": "stream",
     "text": [
      "[[0. 1. 0.]\n",
      " [1. 0. 0.]\n",
      " [0. 0. 1.]]\n",
      "[[0. 1. 0.]\n",
      " [1. 0. 0.]\n",
      " [0. 0. 1.]]\n"
     ]
    }
   ],
   "source": [
    "print (C)\n",
    "print (C.T)"
   ]
  },
  {
   "cell_type": "code",
   "execution_count": 34,
   "metadata": {},
   "outputs": [
    {
     "name": "stdout",
     "output_type": "stream",
     "text": [
      "[[ 0. -1.  0.]\n",
      " [-1.  0.  0.]\n",
      " [ 1.  0.  0.]\n",
      " [ 0.  1.  0.]\n",
      " [ 0.  0.  1.]\n",
      " [ 0.  0. -1.]]\n"
     ]
    }
   ],
   "source": [
    "errA = np.matmul(trueA, C)\n",
    "print (errA)"
   ]
  },
  {
   "cell_type": "code",
   "execution_count": null,
   "metadata": {},
   "outputs": [],
   "source": []
  }
 ],
 "metadata": {
  "kernelspec": {
   "display_name": "Python 3",
   "language": "python",
   "name": "python3"
  },
  "language_info": {
   "codemirror_mode": {
    "name": "ipython",
    "version": 3
   },
   "file_extension": ".py",
   "mimetype": "text/x-python",
   "name": "python",
   "nbconvert_exporter": "python",
   "pygments_lexer": "ipython3",
   "version": "3.6.8"
  }
 },
 "nbformat": 4,
 "nbformat_minor": 2
}
