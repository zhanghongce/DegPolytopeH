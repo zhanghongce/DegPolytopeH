{
 "cells": [
  {
   "cell_type": "code",
   "execution_count": 1,
   "metadata": {},
   "outputs": [
    {
     "name": "stdout",
     "output_type": "stream",
     "text": [
      "1\n",
      "1\n",
      "2\n",
      "3\n"
     ]
    }
   ],
   "source": [
    "from scipy.spatial import ConvexHull\n",
    "from sklearn.decomposition import PCA\n",
    "import numpy as np\n",
    "import cdd\n",
    "\n",
    "v1 = np.array([[0.0, 0.0,0.0,0.0],[1.0, 1.0,1.0,1.0], [1.0/2, 1.0/2,1.0/2,1.0/2], [1.0/4, 1.0/4,1.0/4,1.0/4]])\n",
    "v2 = np.array([[0.0, 0.0,0.0,0.0],[1.0, 1.0,1.0,1.0]])\n",
    "v3 = np.array([[1.0, 1.0,0.0,1.0],[1.0, 0.0,2.0,1.0]])\n",
    "v4 = np.array([[1.0,0.0,1.0],[ 0.0,2.0,1.0], [ 0.0,0.0,1.0], [ 1.0,2.0,1.0]])\n",
    "\n",
    "\n",
    "print(np.linalg.matrix_rank(v1))\n",
    "print(np.linalg.matrix_rank(v2))\n",
    "print(np.linalg.matrix_rank(v3))\n",
    "print(np.linalg.matrix_rank(v4))\n"
   ]
  },
  {
   "cell_type": "code",
   "execution_count": 3,
   "metadata": {},
   "outputs": [
    {
     "name": "stdout",
     "output_type": "stream",
     "text": [
      "(array([[-2.22044605e-16,  1.00000000e+00,  1.38777878e-17,\n",
      "         5.55111512e-17],\n",
      "       [-8.72871561e-01,  1.11022302e-16, -2.18217890e-01,\n",
      "        -4.36435780e-01],\n",
      "       [-4.36435780e-01,  0.00000000e+00, -5.08513756e-02,\n",
      "         8.98297249e-01],\n",
      "       [-2.18217890e-01,  0.00000000e+00,  9.74574312e-01,\n",
      "        -5.08513756e-02]]), array([2.29128785e+00, 2.20303052e-16, 0.00000000e+00, 0.00000000e+00]), array([[-5.00000000e-01, -5.00000000e-01, -5.00000000e-01,\n",
      "        -5.00000000e-01],\n",
      "       [-8.66025404e-01,  2.88675135e-01,  2.88675135e-01,\n",
      "         2.88675135e-01],\n",
      "       [ 0.00000000e+00, -8.75605293e-17, -7.07106781e-01,\n",
      "         7.07106781e-01],\n",
      "       [ 0.00000000e+00,  8.16496581e-01, -4.08248290e-01,\n",
      "        -4.08248290e-01]]))\n"
     ]
    }
   ],
   "source": [
    "print (np.linalg.svd(v1))"
   ]
  },
  {
   "cell_type": "code",
   "execution_count": 5,
   "metadata": {},
   "outputs": [
    {
     "name": "stdout",
     "output_type": "stream",
     "text": [
      "(array([[ 0., -1.],\n",
      "       [-1.,  0.]]), array([2., 0.]), array([[-0.5       , -0.5       , -0.5       , -0.5       ],\n",
      "       [ 0.8660254 , -0.28867513, -0.28867513, -0.28867513],\n",
      "       [ 0.        , -0.57735027,  0.78867513, -0.21132487],\n",
      "       [ 0.        , -0.57735027, -0.21132487,  0.78867513]]))\n"
     ]
    }
   ],
   "source": [
    "print (np.linalg.svd(v2))"
   ]
  },
  {
   "cell_type": "code",
   "execution_count": 6,
   "metadata": {},
   "outputs": [
    {
     "name": "stdout",
     "output_type": "stream",
     "text": [
      "(array([[-0.4472136 , -0.89442719],\n",
      "       [-0.89442719,  0.4472136 ]]), array([2.64575131, 1.41421356]), array([[-0.50709255, -0.16903085, -0.6761234 , -0.50709255],\n",
      "       [-0.31622777, -0.63245553,  0.63245553, -0.31622777],\n",
      "       [-0.49621768,  0.74419182,  0.37209591, -0.24797415],\n",
      "       [-0.62978184, -0.13269175, -0.06634587,  0.76247358]]))\n"
     ]
    }
   ],
   "source": [
    "print (np.linalg.svd(v3))"
   ]
  },
  {
   "cell_type": "code",
   "execution_count": 7,
   "metadata": {},
   "outputs": [
    {
     "name": "stdout",
     "output_type": "stream",
     "text": [
      "(array([[-2.39614662e-01,  8.16496581e-01,  1.60991139e-01,\n",
      "        -5.00000000e-01],\n",
      "       [-6.33960807e-01, -4.08248290e-01, -4.25942518e-01,\n",
      "        -5.00000000e-01],\n",
      "       [-1.54731482e-01,  4.08248290e-01, -7.47924797e-01,\n",
      "         5.00000000e-01],\n",
      "       [-7.18843987e-01, -2.22044605e-16,  4.82973418e-01,\n",
      "         5.00000000e-01]]), array([3.36028312, 1.41421356, 0.84172286]), array([[-0.28523152, -0.8051731 , -0.51994159],\n",
      "       [ 0.57735027, -0.57735027,  0.57735027],\n",
      "       [ 0.76505532,  0.13550992, -0.6295454 ]]))\n"
     ]
    }
   ],
   "source": [
    "print (np.linalg.svd(v4))"
   ]
  },
  {
   "cell_type": "code",
   "execution_count": null,
   "metadata": {},
   "outputs": [],
   "source": [
    "v_min_size = min(v.shape)\n",
    "dim = v.shape[1]\n",
    "pca = PCA(n_components=v_min_size)\n",
    "pca.fit(v)\n",
    "C = pca.components_\n",
    "mean = pca.mean_\n",
    "low_dim_pts = pca.transform(v)\n",
    "print (v)\n",
    "print (C)\n",
    "print (mean)\n",
    "print (low_dim_pts)\n",
    "print (np.matmul(C, C.T))"
   ]
  },
  {
   "cell_type": "code",
   "execution_count": null,
   "metadata": {},
   "outputs": [],
   "source": [
    "print (np.matmul(C.T,low_dim_pts.T))"
   ]
  },
  {
   "cell_type": "code",
   "execution_count": null,
   "metadata": {},
   "outputs": [],
   "source": [
    "explain_ratio = np.cumsum(pca.explained_variance_ratio_)\n",
    "\n",
    "first_dims = np.argmax(explain_ratio >= 1.0-0.00001)\n",
    "\n",
    "low_dim_pts_reduct = low_dim_pts[:,0:first_dims+1]\n",
    "\n",
    "# decide how many to remove...\n",
    "print (low_dim_pts_reduct)"
   ]
  },
  {
   "cell_type": "code",
   "execution_count": null,
   "metadata": {},
   "outputs": [],
   "source": [
    "if low_dim_pts_reduct.shape[1] == 1:\n",
    "    lb = np.min(low_dim_pts_reduct)\n",
    "    ub = np.max(low_dim_pts_reduct)\n",
    "    # x <= ub  -x >= -lb\n",
    "    A = np.array([[1.0],[-1.0]])\n",
    "    b = np.array([ub, -lb])\n",
    "else:\n",
    "    # convex hull will get you Ax + b <= 0\n",
    "    hull = ConvexHull(points=low_dim_pts_reduct)\n",
    "    A = hull.equations[:,:-1]\n",
    "    b = -hull.equations[:,-1]\n",
    "print (A,b)"
   ]
  },
  {
   "cell_type": "code",
   "execution_count": null,
   "metadata": {},
   "outputs": [],
   "source": [
    "n_rows = A.shape[0]\n",
    "n_cols = A.shape[1]\n",
    "\n",
    "num_var_to_add = v_min_size - (first_dims+1)\n",
    "\n",
    "zero4 = np.zeros((n_rows,num_var_to_add))\n",
    "\n",
    "rows_to_append = []\n",
    "for idx in range(num_var_to_add):\n",
    "    l = [0.0]*num_var_to_add\n",
    "    l[idx] = 1.0\n",
    "    rows_to_append.append(np.append(np.zeros((1,n_cols)), l))\n",
    "    l[idx] = -1.0\n",
    "    rows_to_append.append(np.append(np.zeros((1,n_cols)), l))\n",
    "\n",
    "trueA = np.vstack([np.hstack([A, zero4])] + rows_to_append)\n",
    "trueB = np.append(b, [0.0, 0.0]*num_var_to_add)\n",
    "print (trueA)\n",
    "print (trueB)"
   ]
  },
  {
   "cell_type": "code",
   "execution_count": null,
   "metadata": {},
   "outputs": [],
   "source": []
  },
  {
   "cell_type": "code",
   "execution_count": null,
   "metadata": {},
   "outputs": [],
   "source": [
    "print (mean)\n",
    "print (trueA.shape)\n",
    "print (trueA)\n",
    "print (C)\n",
    "print (C.shape)\n",
    "print (trueB)"
   ]
  },
  {
   "cell_type": "code",
   "execution_count": null,
   "metadata": {
    "scrolled": true
   },
   "outputs": [],
   "source": [
    "finalA = np.matmul(trueA, C)\n",
    "finalA"
   ]
  },
  {
   "cell_type": "code",
   "execution_count": null,
   "metadata": {},
   "outputs": [],
   "source": [
    "np.matmul(finalA, mean)"
   ]
  },
  {
   "cell_type": "code",
   "execution_count": null,
   "metadata": {},
   "outputs": [],
   "source": [
    "np.matmul(finalA, mean)+trueB"
   ]
  },
  {
   "cell_type": "code",
   "execution_count": null,
   "metadata": {},
   "outputs": [],
   "source": [
    "0.8660254/0.28867513"
   ]
  },
  {
   "cell_type": "code",
   "execution_count": null,
   "metadata": {},
   "outputs": [],
   "source": [
    "1.78885438/0.4472136"
   ]
  },
  {
   "cell_type": "code",
   "execution_count": null,
   "metadata": {},
   "outputs": [],
   "source": [
    "0.3527864/0.4472136"
   ]
  },
  {
   "cell_type": "code",
   "execution_count": null,
   "metadata": {},
   "outputs": [],
   "source": []
  }
 ],
 "metadata": {
  "kernelspec": {
   "display_name": "Python 3",
   "language": "python",
   "name": "python3"
  },
  "language_info": {
   "codemirror_mode": {
    "name": "ipython",
    "version": 3
   },
   "file_extension": ".py",
   "mimetype": "text/x-python",
   "name": "python",
   "nbconvert_exporter": "python",
   "pygments_lexer": "ipython3",
   "version": "3.6.8"
  }
 },
 "nbformat": 4,
 "nbformat_minor": 2
}
