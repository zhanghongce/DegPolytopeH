{
 "cells": [
  {
   "cell_type": "code",
   "execution_count": 1,
   "metadata": {},
   "outputs": [],
   "source": [
    "import pyparma\n",
    "from pyparma.utils.representations import gen_from_line, ex_from_line,fractionize\n",
    "\n",
    "import numpy as np\n",
    "from fractions import Fraction"
   ]
  },
  {
   "cell_type": "code",
   "execution_count": 7,
   "metadata": {},
   "outputs": [
    {
     "name": "stdout",
     "output_type": "stream",
     "text": [
      "V-representation\n",
      "begin\n",
      " 4 4 real\n",
      "  1  1  0  1\n",
      "  1  0  2  1\n",
      "  1  0  0  1\n",
      "  1  1  2  1\n",
      "end\n"
     ]
    },
    {
     "ename": "AttributeError",
     "evalue": "'tuple' object has no attribute 'squeeze'",
     "output_type": "error",
     "traceback": [
      "\u001b[0;31m---------------------------------------------------------------------------\u001b[0m",
      "\u001b[0;31mAttributeError\u001b[0m                            Traceback (most recent call last)",
      "\u001b[0;32m<ipython-input-7-0edd68d7b913>\u001b[0m in \u001b[0;36m<module>\u001b[0;34m\u001b[0m\n\u001b[1;32m      5\u001b[0m \u001b[0mprint\u001b[0m \u001b[0;34m(\u001b[0m\u001b[0mmat\u001b[0m\u001b[0;34m)\u001b[0m\u001b[0;34m\u001b[0m\u001b[0;34m\u001b[0m\u001b[0m\n\u001b[1;32m      6\u001b[0m \u001b[0;34m\u001b[0m\u001b[0m\n\u001b[0;32m----> 7\u001b[0;31m \u001b[0mppl_poly\u001b[0m \u001b[0;34m=\u001b[0m \u001b[0mpyparma\u001b[0m\u001b[0;34m.\u001b[0m\u001b[0mPolyhedron\u001b[0m\u001b[0;34m(\u001b[0m\u001b[0mvrep\u001b[0m\u001b[0;34m=\u001b[0m\u001b[0mmat\u001b[0m\u001b[0;34m)\u001b[0m\u001b[0;34m\u001b[0m\u001b[0;34m\u001b[0m\u001b[0m\n\u001b[0m",
      "\u001b[0;32m~/.local/lib/python3.6/site-packages/pyparma/utils/representations.py\u001b[0m in \u001b[0;36m__init__\u001b[0;34m(self, **kwargs)\u001b[0m\n\u001b[1;32m     25\u001b[0m             \u001b[0;32mreturn\u001b[0m\u001b[0;34m\u001b[0m\u001b[0;34m\u001b[0m\u001b[0m\n\u001b[1;32m     26\u001b[0m         \u001b[0;32mif\u001b[0m \u001b[0;34m\"vrep\"\u001b[0m \u001b[0;32min\u001b[0m \u001b[0mkwargs\u001b[0m\u001b[0;34m:\u001b[0m\u001b[0;34m\u001b[0m\u001b[0;34m\u001b[0m\u001b[0m\n\u001b[0;32m---> 27\u001b[0;31m             \u001b[0mself\u001b[0m\u001b[0;34m.\u001b[0m\u001b[0mpoly\u001b[0m \u001b[0;34m=\u001b[0m \u001b[0mfrom_vrep\u001b[0m\u001b[0;34m(\u001b[0m\u001b[0mkwargs\u001b[0m\u001b[0;34m[\u001b[0m\u001b[0;34m\"vrep\"\u001b[0m\u001b[0;34m]\u001b[0m\u001b[0;34m)\u001b[0m\u001b[0;34m\u001b[0m\u001b[0;34m\u001b[0m\u001b[0m\n\u001b[0m\u001b[1;32m     28\u001b[0m             \u001b[0;32mreturn\u001b[0m\u001b[0;34m\u001b[0m\u001b[0;34m\u001b[0m\u001b[0m\n\u001b[1;32m     29\u001b[0m         \u001b[0;32mif\u001b[0m \u001b[0;34m\"poly\"\u001b[0m \u001b[0;32min\u001b[0m \u001b[0mkwargs\u001b[0m\u001b[0;34m:\u001b[0m\u001b[0;34m\u001b[0m\u001b[0;34m\u001b[0m\u001b[0m\n",
      "\u001b[0;32m~/.local/lib/python3.6/site-packages/pyparma/utils/representations.py\u001b[0m in \u001b[0;36mfrom_vrep\u001b[0;34m(vrep)\u001b[0m\n\u001b[1;32m    149\u001b[0m     \u001b[0mgs\u001b[0m \u001b[0;34m=\u001b[0m \u001b[0mGenerator_System\u001b[0m\u001b[0;34m(\u001b[0m\u001b[0;34m)\u001b[0m\u001b[0;34m\u001b[0m\u001b[0;34m\u001b[0m\u001b[0m\n\u001b[1;32m    150\u001b[0m     \u001b[0;32mfor\u001b[0m \u001b[0ml\u001b[0m \u001b[0;32min\u001b[0m \u001b[0mvrep\u001b[0m\u001b[0;34m:\u001b[0m\u001b[0;34m\u001b[0m\u001b[0;34m\u001b[0m\u001b[0m\n\u001b[0;32m--> 151\u001b[0;31m         \u001b[0mgs\u001b[0m\u001b[0;34m.\u001b[0m\u001b[0minsert\u001b[0m\u001b[0;34m(\u001b[0m\u001b[0mgen_from_line\u001b[0m\u001b[0;34m(\u001b[0m\u001b[0ml\u001b[0m\u001b[0;34m)\u001b[0m\u001b[0;34m)\u001b[0m\u001b[0;34m\u001b[0m\u001b[0;34m\u001b[0m\u001b[0m\n\u001b[0m\u001b[1;32m    152\u001b[0m     \u001b[0;32mreturn\u001b[0m \u001b[0mC_Polyhedron\u001b[0m\u001b[0;34m(\u001b[0m\u001b[0mgs\u001b[0m\u001b[0;34m)\u001b[0m\u001b[0;34m\u001b[0m\u001b[0;34m\u001b[0m\u001b[0m\n\u001b[1;32m    153\u001b[0m \u001b[0;34m\u001b[0m\u001b[0m\n",
      "\u001b[0;32m~/.local/lib/python3.6/site-packages/pyparma/utils/representations.py\u001b[0m in \u001b[0;36mgen_from_line\u001b[0;34m(l)\u001b[0m\n\u001b[1;32m    116\u001b[0m \u001b[0;34m\u001b[0m\u001b[0m\n\u001b[1;32m    117\u001b[0m \u001b[0;32mdef\u001b[0m \u001b[0mgen_from_line\u001b[0m\u001b[0;34m(\u001b[0m\u001b[0ml\u001b[0m\u001b[0;34m)\u001b[0m\u001b[0;34m:\u001b[0m\u001b[0;34m\u001b[0m\u001b[0;34m\u001b[0m\u001b[0m\n\u001b[0;32m--> 118\u001b[0;31m     \u001b[0mline\u001b[0m \u001b[0;34m=\u001b[0m \u001b[0ml\u001b[0m\u001b[0;34m.\u001b[0m\u001b[0msqueeze\u001b[0m\u001b[0;34m(\u001b[0m\u001b[0;34m)\u001b[0m\u001b[0;34m\u001b[0m\u001b[0;34m\u001b[0m\u001b[0m\n\u001b[0m\u001b[1;32m    119\u001b[0m     \u001b[0mt\u001b[0m\u001b[0;34m,\u001b[0m \u001b[0mcoords\u001b[0m \u001b[0;34m=\u001b[0m \u001b[0mline\u001b[0m\u001b[0;34m[\u001b[0m\u001b[0;36m0\u001b[0m\u001b[0;34m]\u001b[0m\u001b[0;34m,\u001b[0m \u001b[0mline\u001b[0m\u001b[0;34m[\u001b[0m\u001b[0;36m1\u001b[0m\u001b[0;34m:\u001b[0m\u001b[0;34m]\u001b[0m\u001b[0;34m\u001b[0m\u001b[0;34m\u001b[0m\u001b[0m\n\u001b[1;32m    120\u001b[0m     \u001b[0;32mif\u001b[0m \u001b[0mis_int_long\u001b[0m\u001b[0;34m(\u001b[0m\u001b[0mcoords\u001b[0m\u001b[0;34m)\u001b[0m\u001b[0;34m:\u001b[0m\u001b[0;34m\u001b[0m\u001b[0;34m\u001b[0m\u001b[0m\n",
      "\u001b[0;31mAttributeError\u001b[0m: 'tuple' object has no attribute 'squeeze'"
     ]
    }
   ],
   "source": [
    "vcdd = np.array([[1.0, 1.0,0.0,1.0],[1.0, 0.0,2.0,1.0], [1.0, 0.0,0.0,1.0], [1.0, 1.0,2.0,1.0]])\n",
    "mat = cdd.Matrix(vcdd.tolist(), number_type='float')\n",
    "mat.rep_type = cdd.RepType.GENERATOR\n",
    "mat.canonicalize()\n",
    "print (mat)\n",
    "\n",
    "ppl_poly = pyparma.Polyhedron(vrep=mat)"
   ]
  },
  {
   "cell_type": "code",
   "execution_count": 4,
   "metadata": {},
   "outputs": [
    {
     "name": "stdout",
     "output_type": "stream",
     "text": [
      "H-representation\n",
      "begin\n",
      " 3 3 rational\n",
      " 0 1 0\n",
      " 0 0 1\n",
      " 1 -1 0\n",
      "end\n"
     ]
    }
   ],
   "source": [
    "import cdd"
   ]
  },
  {
   "cell_type": "code",
   "execution_count": 12,
   "metadata": {},
   "outputs": [
    {
     "name": "stdout",
     "output_type": "stream",
     "text": [
      "[[ 1 -1 -1]\n",
      " [ 0  1  0]\n",
      " [ 0  0  1]]\n"
     ]
    }
   ],
   "source": [
    "A = np.array([[1, 0, 0],\n",
    "              [1, 1, 0],\n",
    "              [1, 0, 1]])\n",
    "\n",
    "mat = cdd.Matrix(A.tolist(), number_type='fraction')\n",
    "mat.rep_type = cdd.RepType.GENERATOR\n",
    "cdd_poly = cdd.Polyhedron(mat)\n",
    "\n",
    "ineq = np.array(cdd_poly.get_inequalities())\n",
    "print (ineq)\n",
    "\n",
    "ppl_poly = pyparma.Polyhedron(hrep=ineq)"
   ]
  },
  {
   "cell_type": "code",
   "execution_count": 17,
   "metadata": {},
   "outputs": [
    {
     "name": "stdout",
     "output_type": "stream",
     "text": [
      "[[1 1 0]\n",
      " [1 0 0]\n",
      " [0 0 1]]\n",
      "[[1 1 0 1]\n",
      " [1 0 2 1]\n",
      " [1 0 0 1]\n",
      " [1 1 2 1]]\n"
     ]
    }
   ],
   "source": [
    "A = np.array([[0, 1, 0],\n",
    "              [0, 0, 1],\n",
    "              [1, -1, 0]])\n",
    "\n",
    "mat = cdd.Matrix(A.tolist(), number_type='fraction')\n",
    "mat.rep_type = cdd.RepType.INEQUALITY\n",
    "mat.canonicalize()\n",
    "cdd_poly = cdd.Polyhedron(mat)\n",
    "\n",
    "gen = np.array(cdd_poly.get_generators())\n",
    "print (gen)\n",
    "vcdd = np.array([[1, 1,0,1],[1, 0,2,1], [1, 0,0,1], [1, 1,2,1]])\n",
    "print (vcdd)\n",
    "\n",
    "ppl_poly = pyparma.Polyhedron(vrep=vcdd)"
   ]
  },
  {
   "cell_type": "code",
   "execution_count": 18,
   "metadata": {},
   "outputs": [
    {
     "name": "stdout",
     "output_type": "stream",
     "text": [
      "[[Fraction(1, 1) Fraction(0, 1) Fraction(0, 1) Fraction(-1, 1)]\n",
      " [0 1 0 0]\n",
      " [0 0 1 0]\n",
      " [Fraction(1, 1) Fraction(-1, 1) Fraction(0, 1) Fraction(0, 1)]\n",
      " [Fraction(1, 1) Fraction(0, 1) Fraction(-1, 2) Fraction(0, 1)]]\n"
     ]
    }
   ],
   "source": [
    "Hs = ppl_poly.hrep()\n",
    "print (Hs)"
   ]
  },
  {
   "cell_type": "code",
   "execution_count": null,
   "metadata": {},
   "outputs": [],
   "source": []
  }
 ],
 "metadata": {
  "kernelspec": {
   "display_name": "Python 3",
   "language": "python",
   "name": "python3"
  },
  "language_info": {
   "codemirror_mode": {
    "name": "ipython",
    "version": 3
   },
   "file_extension": ".py",
   "mimetype": "text/x-python",
   "name": "python",
   "nbconvert_exporter": "python",
   "pygments_lexer": "ipython3",
   "version": "3.6.8"
  }
 },
 "nbformat": 4,
 "nbformat_minor": 2
}
