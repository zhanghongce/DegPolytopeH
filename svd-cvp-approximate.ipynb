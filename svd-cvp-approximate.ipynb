{
 "cells": [
  {
   "cell_type": "code",
   "execution_count": 1,
   "metadata": {},
   "outputs": [],
   "source": [
    "import numpy as np\n",
    "from scipy.spatial import ConvexHull\n",
    "import matplotlib.pyplot as plt\n",
    "%matplotlib inline \n",
    "\n",
    "v1 = np.array([[0.0, 0.0,0.0,0.0],[1.0, 1.0,1.0,1.0], [1.0/2, 1.0/2,1.0/2,1.0/2], [1.0/4, 1.0/4,1.0/4,1.0/4]])\n",
    "v2 = np.array([[0.0, 0.0,0.0,0.0],[1.0, 1.0,1.0,1.0]]) # good\n",
    "v3 = np.array([[1.0, 1.0,0.0,1.0],[1.0, 0.0,2.0,1.0]])\n",
    "v4 = np.array([[1.0,0.0,1.0],[ 0.0,2.0,1.0], [ 0.0,0.0,1.0], [ 1.0,2.0,1.0]])\n",
    "v5 = np.zeros((2,4))\n",
    "vn = np.array([[0.0,0.0,0.0],[1.0,1.0,0.0],[0.0,0.0,2.0],[1.0,1.0,2.0]])\n",
    "v6 = np.array([[1.0,-1.0],[2.0,0.0],[3.0,1.0],[-1.0,1.0],[-2.0,0.0],[-3.0,-1.0]])\n",
    "\n",
    "v = v6\n",
    "m_ = np.mean(v,axis=0)\n",
    "v = v - m_\n",
    "U,S,V = np.linalg.svd(v)\n",
    "epsilon = 0.000001\n",
    "npoints, ndim = v.shape\n"
   ]
  },
  {
   "cell_type": "code",
   "execution_count": 2,
   "metadata": {},
   "outputs": [
    {
     "name": "stdout",
     "output_type": "stream",
     "text": [
      "[[ 1. -1.]\n",
      " [ 2.  0.]\n",
      " [ 3.  1.]\n",
      " [-1.  1.]\n",
      " [-2.  0.]\n",
      " [-3. -1.]]\n",
      "[[-0.15448992  0.62673721  0.00893033  0.68481338  0.33794152 -0.00893033]\n",
      " [-0.36883324  0.17501059 -0.60007595 -0.301416    0.14932997  0.60007595]\n",
      " [-0.58317656 -0.27671604  0.65537111  0.02614958  0.18538923  0.34462889]\n",
      " [ 0.15448992 -0.62673721 -0.30181189  0.63251422 -0.03283695  0.30181189]\n",
      " [ 0.36883324 -0.17501059  0.0214085  -0.19681768  0.89088691 -0.0214085 ]\n",
      " [ 0.58317656  0.27671604  0.34462889 -0.02614958 -0.18538923  0.65537111]] [5.3524864  1.83054346] [[-0.98708746 -0.16018224]\n",
      " [ 0.16018224 -0.98708746]]\n"
     ]
    }
   ],
   "source": [
    "print (v)\n",
    "print (U,S,V)"
   ]
  },
  {
   "cell_type": "code",
   "execution_count": 3,
   "metadata": {},
   "outputs": [
    {
     "name": "stdout",
     "output_type": "stream",
     "text": [
      "[5.3524864  1.83054346]\n",
      "2\n",
      "[[-0.82690521  1.1472697 ]\n",
      " [-1.97417492  0.32036449]\n",
      " [-3.12144462 -0.50654073]\n",
      " [ 0.82690521 -1.1472697 ]\n",
      " [ 1.97417492 -0.32036449]\n",
      " [ 3.12144462  0.50654073]]\n",
      "[[-0.82690521  1.1472697 ]\n",
      " [-1.97417492  0.32036449]\n",
      " [-3.12144462 -0.50654073]\n",
      " [ 0.82690521 -1.1472697 ]\n",
      " [ 1.97417492 -0.32036449]\n",
      " [ 3.12144462  0.50654073]]\n"
     ]
    }
   ],
   "source": [
    "print (S)\n",
    "if not (np.abs(S) < epsilon).any():\n",
    "    dim_to_remove = S.shape[0]\n",
    "else:\n",
    "    dim_to_remove = np.argmax(np.abs(S) < epsilon)\n",
    "print (dim_to_remove)\n",
    "diag_l = S.shape[0]\n",
    "reconstruct_diag = np.zeros((npoints, ndim))\n",
    "reconstruct_diag[:diag_l,:diag_l] = np.diag(S)\n",
    "\n",
    "new_pts = np.matmul(U,reconstruct_diag)\n",
    "print (new_pts)\n",
    "print (new_pts[:, :dim_to_remove])"
   ]
  },
  {
   "cell_type": "code",
   "execution_count": 6,
   "metadata": {},
   "outputs": [
    {
     "data": {
      "text/plain": [
       "[<matplotlib.lines.Line2D at 0x7fa80487a518>]"
      ]
     },
     "execution_count": 6,
     "metadata": {},
     "output_type": "execute_result"
    },
    {
     "data": {
      "image/png": "[encoded data removed]",
      "text/plain": [
       "<Figure size 432x288 with 1 Axes>"
      ]
     },
     "metadata": {
      "needs_background": "light"
     },
     "output_type": "display_data"
    }
   ],
   "source": [
    "plt.figure()\n",
    "plt.plot(new_pts[:,0],new_pts[:,1])"
   ]
  },
  {
   "cell_type": "code",
   "execution_count": null,
   "metadata": {},
   "outputs": [],
   "source": [
    "def toHull(low_dim_pts_reduct):\n",
    "    if low_dim_pts_reduct.shape[1] == 1:\n",
    "        lb = np.min(low_dim_pts_reduct)\n",
    "        ub = np.max(low_dim_pts_reduct)\n",
    "        # x <= ub  -x >= -lb\n",
    "        A = np.array([[1.0],[-1.0]])\n",
    "        b = np.array([ub, -lb])\n",
    "    else:\n",
    "        # convex hull will get you Ax + b <= 0\n",
    "        hull = ConvexHull(points=low_dim_pts_reduct)\n",
    "        A = hull.equations[:,:-1]\n",
    "        b = -hull.equations[:,-1]\n",
    "    print (A,b)\n",
    "    return A,b"
   ]
  },
  {
   "cell_type": "code",
   "execution_count": 9,
   "metadata": {},
   "outputs": [],
   "source": [
    "def toBoxHull(pts):\n",
    "    dim = pts.shape[1]\n",
    "    lb = np.amin(pts, axis=0)\n",
    "    ub = np.amax(pts, axis=0)\n",
    "    retA = np.zeros((2*dim, dim))\n",
    "    retb = np.zeros((2*dim))\n",
    "    for idx in range(dim):\n",
    "        retA[2*idx+0,idx] = 1.0\n",
    "        retA[2*idx+1,idx] = -1.0\n",
    "        retb[2*idx+0] = ub[idx]\n",
    "        retb[2*idx+1] = -lb[idx]\n",
    "    print (retA,retb)\n",
    "    return retA, retb"
   ]
  },
  {
   "cell_type": "code",
   "execution_count": 10,
   "metadata": {},
   "outputs": [
    {
     "name": "stdout",
     "output_type": "stream",
     "text": [
      "[[ 1.  0.]\n",
      " [-1.  0.]\n",
      " [ 0.  1.]\n",
      " [ 0. -1.]] [3.12144462 3.12144462 1.1472697  1.1472697 ]\n"
     ]
    },
    {
     "data": {
      "text/plain": [
       "(array([[ 1.,  0.],\n",
       "        [-1.,  0.],\n",
       "        [ 0.,  1.],\n",
       "        [ 0., -1.]]), array([3.12144462, 3.12144462, 1.1472697 , 1.1472697 ]))"
      ]
     },
     "execution_count": 10,
     "metadata": {},
     "output_type": "execute_result"
    }
   ],
   "source": [
    "toBoxHull(new_pts)"
   ]
  },
  {
   "cell_type": "code",
   "execution_count": 11,
   "metadata": {},
   "outputs": [
    {
     "name": "stdout",
     "output_type": "stream",
     "text": [
      "[[ 1.  0.]\n",
      " [-1.  0.]\n",
      " [ 0.  1.]\n",
      " [ 0. -1.]] [3.12144462 3.12144462 1.1472697  1.1472697 ]\n",
      "[[ 1.  0.]\n",
      " [-1.  0.]\n",
      " [ 0.  1.]\n",
      " [ 0. -1.]]\n",
      "[3.12144462 3.12144462 1.1472697  1.1472697 ]\n"
     ]
    }
   ],
   "source": [
    "low_dim_pts_reduct = new_pts[:, :dim_to_remove]\n",
    "if dim_to_remove != 0:\n",
    "    A,b = toBoxHull(low_dim_pts_reduct)\n",
    "    # complete to the full dimension\n",
    "    n_rows = A.shape[0]\n",
    "    n_cols = A.shape[1]\n",
    "\n",
    "    num_var_to_add = ndim - (dim_to_remove)\n",
    "\n",
    "    zero4 = np.zeros((n_rows,num_var_to_add))\n",
    "    rows_to_append = np.zeros((2*num_var_to_add, n_cols+num_var_to_add))\n",
    "    for idx in range(num_var_to_add):\n",
    "        rows_to_append[idx*2,n_cols+ idx] = 1\n",
    "        rows_to_append[idx*2+1,n_cols+ idx] = -1\n",
    "\n",
    "    trueA = np.vstack([np.hstack([A, zero4]), rows_to_append])\n",
    "    trueB = np.append(b, [0.0, 0.0]*num_var_to_add)\n",
    "else:\n",
    "    #num_var_to_add = ndim # v.shape[1] - (dim_to_remove)  # v.shape[1] \n",
    "    # directly construct trueA trueB\n",
    "    trueA = np.zeros((ndim*2, ndim))\n",
    "    for idx in range(ndim):\n",
    "        trueA[idx*2,idx] = 1\n",
    "        trueA[idx*2+1,idx] = -1\n",
    "    trueB = np.zeros(ndim*2)\n",
    "\n",
    "    \n",
    "print (trueA)\n",
    "print (trueB)"
   ]
  },
  {
   "cell_type": "code",
   "execution_count": 12,
   "metadata": {},
   "outputs": [
    {
     "data": {
      "text/plain": [
       "array([[-0.98708746, -0.16018224],\n",
       "       [ 0.98708746,  0.16018224],\n",
       "       [ 0.16018224, -0.98708746],\n",
       "       [-0.16018224,  0.98708746]])"
      ]
     },
     "execution_count": 12,
     "metadata": {},
     "output_type": "execute_result"
    }
   ],
   "source": [
    "finalA = np.matmul(trueA, V)\n",
    "finalA"
   ]
  },
  {
   "cell_type": "code",
   "execution_count": 13,
   "metadata": {},
   "outputs": [],
   "source": [
    "finalB = np.matmul(finalA, m_) + trueB"
   ]
  },
  {
   "cell_type": "code",
   "execution_count": 14,
   "metadata": {},
   "outputs": [
    {
     "data": {
      "text/plain": [
       "array([3.12144462, 3.12144462, 1.1472697 , 1.1472697 ])"
      ]
     },
     "execution_count": 14,
     "metadata": {},
     "output_type": "execute_result"
    }
   ],
   "source": [
    "finalB"
   ]
  },
  {
   "cell_type": "code",
   "execution_count": 18,
   "metadata": {},
   "outputs": [],
   "source": [
    "c= finalB; a = finalA[:,0]; b = finalA[:,1]"
   ]
  },
  {
   "cell_type": "code",
   "execution_count": 16,
   "metadata": {},
   "outputs": [],
   "source": [
    "draw_x = np.linspace(-5,5,20)"
   ]
  },
  {
   "cell_type": "code",
   "execution_count": 22,
   "metadata": {},
   "outputs": [
    {
     "data": {
      "image/png": "[encoded data removed]",
      "text/plain": [
       "<Figure size 432x288 with 1 Axes>"
      ]
     },
     "metadata": {
      "needs_background": "light"
     },
     "output_type": "display_data"
    }
   ],
   "source": [
    "plt.figure()\n",
    "for idx in range(4):\n",
    "    a0 = a[idx]\n",
    "    b0 = b[idx]\n",
    "    c0 = c[idx]\n",
    "    draw_y = (c0-a0*draw_x)/b0\n",
    "    plt.plot(draw_x,draw_y)\n",
    "plt.xlim([-4,4])\n",
    "plt.ylim([-4,4])\n",
    "plt.show()"
   ]
  },
  {
   "cell_type": "code",
   "execution_count": null,
   "metadata": {},
   "outputs": [],
   "source": [
    "a = true"
   ]
  }
 ],
 "metadata": {
  "kernelspec": {
   "display_name": "Python 3",
   "language": "python",
   "name": "python3"
  },
  "language_info": {
   "codemirror_mode": {
    "name": "ipython",
    "version": 3
   },
   "file_extension": ".py",
   "mimetype": "text/x-python",
   "name": "python",
   "nbconvert_exporter": "python",
   "pygments_lexer": "ipython3",
   "version": "3.6.8"
  }
 },
 "nbformat": 4,
 "nbformat_minor": 2
}
